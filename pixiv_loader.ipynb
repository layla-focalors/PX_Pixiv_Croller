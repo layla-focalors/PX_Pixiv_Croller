{
 "cells": [
  {
   "cell_type": "code",
   "execution_count": 4,
   "metadata": {},
   "outputs": [],
   "source": [
    "import wget\n",
    "from selenium import webdriver\n",
    "import os\n",
    "from selenium.webdriver.chrome.options import Options\n",
    "from selenium.webdriver.chrome.service import Service\n",
    "from webdriver_manager.chrome import ChromeDriverManager\n",
    "from selenium.webdriver.common.by import By\n",
    "from selenium.webdriver.common.alert import Alert\n",
    "from selenium.webdriver.common.keys import Keys\n",
    "import json\n",
    "from selenium.webdriver.common.alert import Alert\n",
    "import time\n",
    "import urllib.request\n",
    "from selenium.webdriver.support.ui import WebDriverWait\n",
    "from selenium.webdriver.support import expected_conditions as EC\n",
    "import requests"
   ]
  },
  {
   "cell_type": "code",
   "execution_count": 5,
   "metadata": {},
   "outputs": [],
   "source": [
    "# browser Open\n",
    "options = Options()\n",
    "# options.add_argument('--headless')\n",
    "options.add_argument('--disable-gpu')\n",
    "options.add_argument('--no-sandbox')\n",
    "options.add_argument('--disable-dev-shm-usage')\n",
    "service = Service(ChromeDriverManager().install())\n",
    "browser = webdriver.Chrome(service=service, options=options)"
   ]
  },
  {
   "cell_type": "code",
   "execution_count": 27,
   "metadata": {},
   "outputs": [],
   "source": [
    "from selenium.webdriver.support.ui import WebDriverWait\n",
    "from selenium.webdriver.support import expected_conditions as EC\n",
    "import requests"
   ]
  },
  {
   "cell_type": "code",
   "execution_count": 45,
   "metadata": {},
   "outputs": [
    {
     "ename": "StaleElementReferenceException",
     "evalue": "Message: stale element reference: stale element not found\n  (Session info: chrome=121.0.6167.140)\nStacktrace:\n\tGetHandleVerifier [0x003E1673+52979]\n\t(No symbol) [0x00367961]\n\t(No symbol) [0x0024DD3D]\n\t(No symbol) [0x00259608]\n\t(No symbol) [0x00252945]\n\t(No symbol) [0x00252A4B]\n\t(No symbol) [0x00251169]\n\t(No symbol) [0x00253CE7]\n\t(No symbol) [0x002BBDD0]\n\t(No symbol) [0x002A44EC]\n\t(No symbol) [0x002BB3FE]\n\t(No symbol) [0x002A4286]\n\t(No symbol) [0x0027C063]\n\t(No symbol) [0x0027CECD]\n\tGetHandleVerifier [0x006F8D83+3294723]\n\tGetHandleVerifier [0x00736CC2+3548482]\n\tGetHandleVerifier [0x00731C9C+3527964]\n\tGetHandleVerifier [0x0047870E+671630]\n\t(No symbol) [0x00371EB4]\n\t(No symbol) [0x0036D808]\n\t(No symbol) [0x0036D92D]\n\t(No symbol) [0x0035F7E0]\n\tBaseThreadInitThunk [0x758C7BA9+25]\n\tRtlInitializeExceptionChain [0x76EDBD2B+107]\n\tRtlClearBits [0x76EDBCAF+191]\n",
     "output_type": "error",
     "traceback": [
      "\u001b[1;31m---------------------------------------------------------------------------\u001b[0m",
      "\u001b[1;31mStaleElementReferenceException\u001b[0m            Traceback (most recent call last)",
      "Cell \u001b[1;32mIn[45], line 21\u001b[0m\n\u001b[0;32m     19\u001b[0m images \u001b[38;5;241m=\u001b[39m browser\u001b[38;5;241m.\u001b[39mfind_elements(By\u001b[38;5;241m.\u001b[39mTAG_NAME, \u001b[38;5;124m'\u001b[39m\u001b[38;5;124mimg\u001b[39m\u001b[38;5;124m'\u001b[39m)\n\u001b[0;32m     20\u001b[0m \u001b[38;5;28;01mfor\u001b[39;00m img \u001b[38;5;129;01min\u001b[39;00m images:\n\u001b[1;32m---> 21\u001b[0m     image_url \u001b[38;5;241m=\u001b[39m \u001b[43mimg\u001b[49m\u001b[38;5;241;43m.\u001b[39;49m\u001b[43mget_attribute\u001b[49m\u001b[43m(\u001b[49m\u001b[38;5;124;43m'\u001b[39;49m\u001b[38;5;124;43msrc\u001b[39;49m\u001b[38;5;124;43m'\u001b[39;49m\u001b[43m)\u001b[49m\n\u001b[0;32m     22\u001b[0m     \u001b[38;5;28;01mif\u001b[39;00m \u001b[38;5;124m'\u001b[39m\u001b[38;5;124mhttps://i.pximg.net/c/250x250\u001b[39m\u001b[38;5;124m'\u001b[39m \u001b[38;5;129;01min\u001b[39;00m image_url:\n\u001b[0;32m     23\u001b[0m         \u001b[38;5;66;03m# print(image_url)\u001b[39;00m\n\u001b[0;32m     24\u001b[0m         \u001b[38;5;66;03m# URLS.append(image_url)\u001b[39;00m\n\u001b[0;32m     25\u001b[0m         key \u001b[38;5;241m=\u001b[39m image_url\u001b[38;5;241m.\u001b[39msplit(\u001b[38;5;124m'\u001b[39m\u001b[38;5;124m/\u001b[39m\u001b[38;5;124m'\u001b[39m)[\u001b[38;5;241m-\u001b[39m\u001b[38;5;241m1\u001b[39m]\u001b[38;5;241m.\u001b[39msplit(\u001b[38;5;124m'\u001b[39m\u001b[38;5;124m_\u001b[39m\u001b[38;5;124m'\u001b[39m)[\u001b[38;5;241m0\u001b[39m]\n",
      "File \u001b[1;32mc:\\Users\\starl\\AppData\\Local\\Programs\\Python\\Python310\\lib\\site-packages\\selenium\\webdriver\\remote\\webelement.py:178\u001b[0m, in \u001b[0;36mWebElement.get_attribute\u001b[1;34m(self, name)\u001b[0m\n\u001b[0;32m    176\u001b[0m \u001b[38;5;28;01mif\u001b[39;00m getAttribute_js \u001b[38;5;129;01mis\u001b[39;00m \u001b[38;5;28;01mNone\u001b[39;00m:\n\u001b[0;32m    177\u001b[0m     _load_js()\n\u001b[1;32m--> 178\u001b[0m attribute_value \u001b[38;5;241m=\u001b[39m \u001b[38;5;28;43mself\u001b[39;49m\u001b[38;5;241;43m.\u001b[39;49m\u001b[43mparent\u001b[49m\u001b[38;5;241;43m.\u001b[39;49m\u001b[43mexecute_script\u001b[49m\u001b[43m(\u001b[49m\n\u001b[0;32m    179\u001b[0m \u001b[43m    \u001b[49m\u001b[38;5;124;43mf\u001b[39;49m\u001b[38;5;124;43m\"\u001b[39;49m\u001b[38;5;124;43m/* getAttribute */return (\u001b[39;49m\u001b[38;5;132;43;01m{\u001b[39;49;00m\u001b[43mgetAttribute_js\u001b[49m\u001b[38;5;132;43;01m}\u001b[39;49;00m\u001b[38;5;124;43m).apply(null, arguments);\u001b[39;49m\u001b[38;5;124;43m\"\u001b[39;49m\u001b[43m,\u001b[49m\u001b[43m \u001b[49m\u001b[38;5;28;43mself\u001b[39;49m\u001b[43m,\u001b[49m\u001b[43m \u001b[49m\u001b[43mname\u001b[49m\n\u001b[0;32m    180\u001b[0m \u001b[43m\u001b[49m\u001b[43m)\u001b[49m\n\u001b[0;32m    181\u001b[0m \u001b[38;5;28;01mreturn\u001b[39;00m attribute_value\n",
      "File \u001b[1;32mc:\\Users\\starl\\AppData\\Local\\Programs\\Python\\Python310\\lib\\site-packages\\selenium\\webdriver\\remote\\webdriver.py:500\u001b[0m, in \u001b[0;36mWebDriver.execute_script\u001b[1;34m(self, script, *args)\u001b[0m\n\u001b[0;32m    497\u001b[0m converted_args \u001b[38;5;241m=\u001b[39m \u001b[38;5;28mlist\u001b[39m(args)\n\u001b[0;32m    498\u001b[0m command \u001b[38;5;241m=\u001b[39m Command\u001b[38;5;241m.\u001b[39mW3C_EXECUTE_SCRIPT\n\u001b[1;32m--> 500\u001b[0m \u001b[38;5;28;01mreturn\u001b[39;00m \u001b[38;5;28;43mself\u001b[39;49m\u001b[38;5;241;43m.\u001b[39;49m\u001b[43mexecute\u001b[49m\u001b[43m(\u001b[49m\u001b[43mcommand\u001b[49m\u001b[43m,\u001b[49m\u001b[43m \u001b[49m\u001b[43m{\u001b[49m\u001b[38;5;124;43m\"\u001b[39;49m\u001b[38;5;124;43mscript\u001b[39;49m\u001b[38;5;124;43m\"\u001b[39;49m\u001b[43m:\u001b[49m\u001b[43m \u001b[49m\u001b[43mscript\u001b[49m\u001b[43m,\u001b[49m\u001b[43m \u001b[49m\u001b[38;5;124;43m\"\u001b[39;49m\u001b[38;5;124;43margs\u001b[39;49m\u001b[38;5;124;43m\"\u001b[39;49m\u001b[43m:\u001b[49m\u001b[43m \u001b[49m\u001b[43mconverted_args\u001b[49m\u001b[43m}\u001b[49m\u001b[43m)\u001b[49m[\u001b[38;5;124m\"\u001b[39m\u001b[38;5;124mvalue\u001b[39m\u001b[38;5;124m\"\u001b[39m]\n",
      "File \u001b[1;32mc:\\Users\\starl\\AppData\\Local\\Programs\\Python\\Python310\\lib\\site-packages\\selenium\\webdriver\\remote\\webdriver.py:440\u001b[0m, in \u001b[0;36mWebDriver.execute\u001b[1;34m(self, driver_command, params)\u001b[0m\n\u001b[0;32m    438\u001b[0m response \u001b[38;5;241m=\u001b[39m \u001b[38;5;28mself\u001b[39m\u001b[38;5;241m.\u001b[39mcommand_executor\u001b[38;5;241m.\u001b[39mexecute(driver_command, params)\n\u001b[0;32m    439\u001b[0m \u001b[38;5;28;01mif\u001b[39;00m response:\n\u001b[1;32m--> 440\u001b[0m     \u001b[38;5;28;43mself\u001b[39;49m\u001b[38;5;241;43m.\u001b[39;49m\u001b[43merror_handler\u001b[49m\u001b[38;5;241;43m.\u001b[39;49m\u001b[43mcheck_response\u001b[49m\u001b[43m(\u001b[49m\u001b[43mresponse\u001b[49m\u001b[43m)\u001b[49m\n\u001b[0;32m    441\u001b[0m     response[\u001b[38;5;124m\"\u001b[39m\u001b[38;5;124mvalue\u001b[39m\u001b[38;5;124m\"\u001b[39m] \u001b[38;5;241m=\u001b[39m \u001b[38;5;28mself\u001b[39m\u001b[38;5;241m.\u001b[39m_unwrap_value(response\u001b[38;5;241m.\u001b[39mget(\u001b[38;5;124m\"\u001b[39m\u001b[38;5;124mvalue\u001b[39m\u001b[38;5;124m\"\u001b[39m, \u001b[38;5;28;01mNone\u001b[39;00m))\n\u001b[0;32m    442\u001b[0m     \u001b[38;5;28;01mreturn\u001b[39;00m response\n",
      "File \u001b[1;32mc:\\Users\\starl\\AppData\\Local\\Programs\\Python\\Python310\\lib\\site-packages\\selenium\\webdriver\\remote\\errorhandler.py:245\u001b[0m, in \u001b[0;36mErrorHandler.check_response\u001b[1;34m(self, response)\u001b[0m\n\u001b[0;32m    243\u001b[0m         alert_text \u001b[38;5;241m=\u001b[39m value[\u001b[38;5;124m\"\u001b[39m\u001b[38;5;124malert\u001b[39m\u001b[38;5;124m\"\u001b[39m]\u001b[38;5;241m.\u001b[39mget(\u001b[38;5;124m\"\u001b[39m\u001b[38;5;124mtext\u001b[39m\u001b[38;5;124m\"\u001b[39m)\n\u001b[0;32m    244\u001b[0m     \u001b[38;5;28;01mraise\u001b[39;00m exception_class(message, screen, stacktrace, alert_text)  \u001b[38;5;66;03m# type: ignore[call-arg]  # mypy is not smart enough here\u001b[39;00m\n\u001b[1;32m--> 245\u001b[0m \u001b[38;5;28;01mraise\u001b[39;00m exception_class(message, screen, stacktrace)\n",
      "\u001b[1;31mStaleElementReferenceException\u001b[0m: Message: stale element reference: stale element not found\n  (Session info: chrome=121.0.6167.140)\nStacktrace:\n\tGetHandleVerifier [0x003E1673+52979]\n\t(No symbol) [0x00367961]\n\t(No symbol) [0x0024DD3D]\n\t(No symbol) [0x00259608]\n\t(No symbol) [0x00252945]\n\t(No symbol) [0x00252A4B]\n\t(No symbol) [0x00251169]\n\t(No symbol) [0x00253CE7]\n\t(No symbol) [0x002BBDD0]\n\t(No symbol) [0x002A44EC]\n\t(No symbol) [0x002BB3FE]\n\t(No symbol) [0x002A4286]\n\t(No symbol) [0x0027C063]\n\t(No symbol) [0x0027CECD]\n\tGetHandleVerifier [0x006F8D83+3294723]\n\tGetHandleVerifier [0x00736CC2+3548482]\n\tGetHandleVerifier [0x00731C9C+3527964]\n\tGetHandleVerifier [0x0047870E+671630]\n\t(No symbol) [0x00371EB4]\n\t(No symbol) [0x0036D808]\n\t(No symbol) [0x0036D92D]\n\t(No symbol) [0x0035F7E0]\n\tBaseThreadInitThunk [0x758C7BA9+25]\n\tRtlInitializeExceptionChain [0x76EDBD2B+107]\n\tRtlClearBits [0x76EDBCAF+191]\n"
     ]
    }
   ],
   "source": [
    "browser.get(URL) \n",
    "\n",
    "DOWNLOAD_DIR = 'C:\\\\Users\\\\starl\\\\Documents\\\\pixiv_loader\\\\space'\n",
    "\n",
    "os.chdir(DOWNLOAD_DIR)\n",
    "\n",
    "URLS = []\n",
    "prev_height = browser.execute_script(\"return document.body.scrollHeight\") \n",
    "\n",
    "while True:\n",
    "    browser.execute_script(\"window.scrollTo(0, document.body.scrollHeight)\")\n",
    "    WebDriverWait(browser, timeout=2).until(\n",
    "        EC.presence_of_element_located((By.TAG_NAME, \"body\"))\n",
    "    )\n",
    "    current_height = browser.execute_script(\"return document.body.scrollHeight\")\n",
    "    if current_height == prev_height:\n",
    "        break\n",
    "    \n",
    "images = browser.find_elements(By.TAG_NAME, 'img')\n",
    "for img in images:\n",
    "    image_url = img.get_attribute('src')\n",
    "    if 'https://i.pximg.net/c/250x250' in image_url:\n",
    "        # print(image_url)\n",
    "        # URLS.append(image_url)\n",
    "        key = image_url.split('/')[-1].split('_')[0]\n",
    "        artworks = f'https://www.pixiv.net/artworks/{key}'\n",
    "        browser.get(artworks)\n",
    "        time.sleep(2)\n",
    "        sub_url = image_url.replace('square','master')\n",
    "        sub_url = sub_url.replace('/c/250x250_80_a2','')\n",
    "        browser.get(sub_url)\n",
    "        # print('sub_url:', sub_url)\n",
    "        \n",
    "        # https://i.pximg.net/img-master/img/2023/12/06/19/41/29/114002216_p0_master1200.jpg\n",
    "        # https://i.pximg.net/img-master/img/2023/12/06/19/41/29/114002216_p0_square1200.jpg\n",
    "        "
   ]
  },
  {
   "cell_type": "code",
   "execution_count": 36,
   "metadata": {},
   "outputs": [
    {
     "name": "stdout",
     "output_type": "stream",
     "text": [
      "['https://i.pximg.net/c/250x250_80_a2/img-master/img/2023/12/06/19/41/29/114002216_p0_square1200.jpg', 'https://i.pximg.net/c/250x250_80_a2/img-master/img/2023/12/04/00/08/51/113933510_p0_square1200.jpg', 'https://i.pximg.net/c/250x250_80_a2/img-master/img/2023/10/01/05/17/24/112172494_p0_square1200.jpg', 'https://i.pximg.net/c/250x250_80_a2/custom-thumb/img/2023/04/24/04/55/09/107470349_p0_custom1200.jpg', 'https://i.pximg.net/c/250x250_80_a2/img-master/img/2023/04/10/00/04/59/107033769_p0_square1200.jpg', 'https://i.pximg.net/c/250x250_80_a2/img-master/img/2023/04/10/00/02/27/107033558_p0_square1200.jpg', 'https://i.pximg.net/c/250x250_80_a2/img-master/img/2023/04/10/00/03/11/107033551_p0_square1200.jpg', 'https://i.pximg.net/c/250x250_80_a2/img-master/img/2023/04/09/00/00/28/106995868_p0_square1200.jpg', 'https://i.pximg.net/c/250x250_80_a2/img-master/img/2023/04/08/00/00/59/106962302_p0_square1200.jpg', 'https://i.pximg.net/c/250x250_80_a2/img-master/img/2023/04/07/00/01/10/106932281_p0_square1200.jpg', 'https://i.pximg.net/c/250x250_80_a2/img-master/img/2023/04/05/00/00/56/106871981_p0_square1200.jpg', 'https://i.pximg.net/c/250x250_80_a2/img-master/img/2023/04/04/00/00/50/106842027_p0_square1200.jpg', 'https://i.pximg.net/c/250x250_80_a2/img-master/img/2023/04/04/00/00/43/106842004_p0_square1200.jpg', 'https://i.pximg.net/c/250x250_80_a2/img-master/img/2023/04/03/00/01/22/106811901_p0_square1200.jpg', 'https://i.pximg.net/c/250x250_80_a2/img-master/img/2023/04/02/00/00/54/106775846_p0_square1200.jpg', 'https://i.pximg.net/c/250x250_80_a2/img-master/img/2023/04/01/00/26/26/106741796_p0_square1200.jpg', 'https://i.pximg.net/c/250x250_80_a2/img-master/img/2023/03/31/00/00/59/106709858_p0_square1200.jpg', 'https://i.pximg.net/c/250x250_80_a2/img-master/img/2023/03/31/00/00/49/106709828_p0_square1200.jpg', 'https://i.pximg.net/c/250x250_80_a2/img-master/img/2023/03/30/00/01/13/106681021_p0_square1200.jpg', 'https://i.pximg.net/c/250x250_80_a2/img-master/img/2023/03/30/00/00/53/106680971_p0_square1200.jpg', 'https://i.pximg.net/c/250x250_80_a2/img-master/img/2023/03/29/00/00/31/106651973_p0_square1200.jpg', 'https://i.pximg.net/c/250x250_80_a2/img-master/img/2023/03/28/00/01/23/106623323_p0_square1200.jpg', 'https://i.pximg.net/c/250x250_80_a2/img-master/img/2023/03/26/00/02/16/106557910_p0_square1200.jpg', 'https://i.pximg.net/c/250x250_80_a2/img-master/img/2023/03/21/00/05/20/106404042_p0_square1200.jpg', 'https://i.pximg.net/c/250x250_80_a2/img-master/img/2023/03/20/19/50/53/106394822_p0_square1200.jpg', 'https://i.pximg.net/c/250x250_80_a2/img-master/img/2023/03/19/01/23/02/106343110_p0_square1200.jpg', 'https://i.pximg.net/c/250x250_80_a2/img-master/img/2023/03/19/00/04/53/106340530_p0_square1200.jpg', 'https://i.pximg.net/c/250x250_80_a2/img-master/img/2023/03/19/00/01/00/106340199_p0_square1200.jpg', 'https://i.pximg.net/c/250x250_80_a2/img-master/img/2023/03/18/00/01/19/106307477_p0_square1200.jpg', 'https://i.pximg.net/c/250x250_80_a2/img-master/img/2023/03/17/00/00/48/106278126_p0_square1200.jpg', 'https://i.pximg.net/c/250x250_80_a2/img-master/img/2023/03/16/00/01/24/106250254_p0_square1200.jpg', 'https://i.pximg.net/c/250x250_80_a2/img-master/img/2023/03/16/00/01/03/106250207_p0_square1200.jpg', 'https://i.pximg.net/c/250x250_80_a2/img-master/img/2023/03/16/00/00/54/106250194_p0_square1200.jpg', 'https://i.pximg.net/c/250x250_80_a2/img-master/img/2023/03/16/00/00/51/106250188_p0_square1200.jpg', 'https://i.pximg.net/c/250x250_80_a2/img-master/img/2023/03/16/00/00/48/106250181_p0_square1200.jpg', 'https://i.pximg.net/c/250x250_80_a2/img-master/img/2023/03/16/00/00/44/106250173_p0_square1200.jpg', 'https://i.pximg.net/c/250x250_80_a2/img-master/img/2023/03/15/00/01/11/106221795_p0_square1200.jpg', 'https://i.pximg.net/c/250x250_80_a2/img-master/img/2023/03/15/00/00/52/106221745_p0_square1200.jpg', 'https://i.pximg.net/c/250x250_80_a2/img-master/img/2023/03/14/00/06/59/106192369_p0_square1200.jpg', 'https://i.pximg.net/c/250x250_80_a2/custom-thumb/img/2023/03/13/13/06/15/106175265_p0_custom1200.jpg', 'https://i.pximg.net/c/250x250_80_a2/img-master/img/2023/03/13/00/00/29/106162870_p0_square1200.jpg', 'https://i.pximg.net/c/250x250_80_a2/img-master/img/2023/03/12/00/00/51/106127342_p0_square1200.jpg', 'https://i.pximg.net/c/250x250_80_a2/img-master/img/2023/03/12/00/00/50/106127340_p0_square1200.jpg', 'https://i.pximg.net/c/250x250_80_a2/img-master/img/2023/03/11/00/00/59/106095994_p0_square1200.jpg', 'https://i.pximg.net/c/250x250_80_a2/img-master/img/2023/03/10/00/14/26/106068047_p0_square1200.jpg', 'https://i.pximg.net/c/250x250_80_a2/img-master/img/2023/03/09/00/01/20/106037321_p0_square1200.jpg', 'https://i.pximg.net/c/250x250_80_a2/img-master/img/2023/03/08/00/01/32/106009702_p0_square1200.jpg', 'https://i.pximg.net/c/250x250_80_a2/img-master/img/2023/03/08/00/00/44/106009595_p0_square1200.jpg', 'https://i.pximg.net/c/250x250_80_a2/img-master/img/2023/03/07/00/05/34/105981959_p0_square1200.jpg', 'https://i.pximg.net/c/250x250_80_a2/img-master/img/2023/03/06/00/00/48/105952965_p0_square1200.jpg']\n"
     ]
    },
    {
     "ename": "HTTPError",
     "evalue": "HTTP Error 403: Forbidden",
     "output_type": "error",
     "traceback": [
      "\u001b[1;31m---------------------------------------------------------------------------\u001b[0m",
      "\u001b[1;31mHTTPError\u001b[0m                                 Traceback (most recent call last)",
      "Cell \u001b[1;32mIn[36], line 5\u001b[0m\n\u001b[0;32m      3\u001b[0m \u001b[38;5;28;01mfor\u001b[39;00m i \u001b[38;5;129;01min\u001b[39;00m URLS:\n\u001b[0;32m      4\u001b[0m     browser\u001b[38;5;241m.\u001b[39mget(i)\n\u001b[1;32m----> 5\u001b[0m     \u001b[43mwget\u001b[49m\u001b[38;5;241;43m.\u001b[39;49m\u001b[43mdownload\u001b[49m\u001b[43m(\u001b[49m\u001b[43mi\u001b[49m\u001b[43m)\u001b[49m\n",
      "File \u001b[1;32mc:\\Users\\starl\\AppData\\Local\\Programs\\Python\\Python310\\lib\\site-packages\\wget.py:526\u001b[0m, in \u001b[0;36mdownload\u001b[1;34m(url, out, bar)\u001b[0m\n\u001b[0;32m    524\u001b[0m \u001b[38;5;28;01melse\u001b[39;00m:\n\u001b[0;32m    525\u001b[0m     binurl \u001b[38;5;241m=\u001b[39m url\n\u001b[1;32m--> 526\u001b[0m (tmpfile, headers) \u001b[38;5;241m=\u001b[39m \u001b[43mulib\u001b[49m\u001b[38;5;241;43m.\u001b[39;49m\u001b[43murlretrieve\u001b[49m\u001b[43m(\u001b[49m\u001b[43mbinurl\u001b[49m\u001b[43m,\u001b[49m\u001b[43m \u001b[49m\u001b[43mtmpfile\u001b[49m\u001b[43m,\u001b[49m\u001b[43m \u001b[49m\u001b[43mcallback\u001b[49m\u001b[43m)\u001b[49m\n\u001b[0;32m    527\u001b[0m filename \u001b[38;5;241m=\u001b[39m detect_filename(url, out, headers)\n\u001b[0;32m    528\u001b[0m \u001b[38;5;28;01mif\u001b[39;00m outdir:\n",
      "File \u001b[1;32mc:\\Users\\starl\\AppData\\Local\\Programs\\Python\\Python310\\lib\\urllib\\request.py:241\u001b[0m, in \u001b[0;36murlretrieve\u001b[1;34m(url, filename, reporthook, data)\u001b[0m\n\u001b[0;32m    224\u001b[0m \u001b[38;5;250m\u001b[39m\u001b[38;5;124;03m\"\"\"\u001b[39;00m\n\u001b[0;32m    225\u001b[0m \u001b[38;5;124;03mRetrieve a URL into a temporary location on disk.\u001b[39;00m\n\u001b[0;32m    226\u001b[0m \n\u001b[1;32m   (...)\u001b[0m\n\u001b[0;32m    237\u001b[0m \u001b[38;5;124;03mdata file as well as the resulting HTTPMessage object.\u001b[39;00m\n\u001b[0;32m    238\u001b[0m \u001b[38;5;124;03m\"\"\"\u001b[39;00m\n\u001b[0;32m    239\u001b[0m url_type, path \u001b[38;5;241m=\u001b[39m _splittype(url)\n\u001b[1;32m--> 241\u001b[0m \u001b[38;5;28;01mwith\u001b[39;00m contextlib\u001b[38;5;241m.\u001b[39mclosing(\u001b[43murlopen\u001b[49m\u001b[43m(\u001b[49m\u001b[43murl\u001b[49m\u001b[43m,\u001b[49m\u001b[43m \u001b[49m\u001b[43mdata\u001b[49m\u001b[43m)\u001b[49m) \u001b[38;5;28;01mas\u001b[39;00m fp:\n\u001b[0;32m    242\u001b[0m     headers \u001b[38;5;241m=\u001b[39m fp\u001b[38;5;241m.\u001b[39minfo()\n\u001b[0;32m    244\u001b[0m     \u001b[38;5;66;03m# Just return the local path and the \"headers\" for file://\u001b[39;00m\n\u001b[0;32m    245\u001b[0m     \u001b[38;5;66;03m# URLs. No sense in performing a copy unless requested.\u001b[39;00m\n",
      "File \u001b[1;32mc:\\Users\\starl\\AppData\\Local\\Programs\\Python\\Python310\\lib\\urllib\\request.py:216\u001b[0m, in \u001b[0;36murlopen\u001b[1;34m(url, data, timeout, cafile, capath, cadefault, context)\u001b[0m\n\u001b[0;32m    214\u001b[0m \u001b[38;5;28;01melse\u001b[39;00m:\n\u001b[0;32m    215\u001b[0m     opener \u001b[38;5;241m=\u001b[39m _opener\n\u001b[1;32m--> 216\u001b[0m \u001b[38;5;28;01mreturn\u001b[39;00m \u001b[43mopener\u001b[49m\u001b[38;5;241;43m.\u001b[39;49m\u001b[43mopen\u001b[49m\u001b[43m(\u001b[49m\u001b[43murl\u001b[49m\u001b[43m,\u001b[49m\u001b[43m \u001b[49m\u001b[43mdata\u001b[49m\u001b[43m,\u001b[49m\u001b[43m \u001b[49m\u001b[43mtimeout\u001b[49m\u001b[43m)\u001b[49m\n",
      "File \u001b[1;32mc:\\Users\\starl\\AppData\\Local\\Programs\\Python\\Python310\\lib\\urllib\\request.py:525\u001b[0m, in \u001b[0;36mOpenerDirector.open\u001b[1;34m(self, fullurl, data, timeout)\u001b[0m\n\u001b[0;32m    523\u001b[0m \u001b[38;5;28;01mfor\u001b[39;00m processor \u001b[38;5;129;01min\u001b[39;00m \u001b[38;5;28mself\u001b[39m\u001b[38;5;241m.\u001b[39mprocess_response\u001b[38;5;241m.\u001b[39mget(protocol, []):\n\u001b[0;32m    524\u001b[0m     meth \u001b[38;5;241m=\u001b[39m \u001b[38;5;28mgetattr\u001b[39m(processor, meth_name)\n\u001b[1;32m--> 525\u001b[0m     response \u001b[38;5;241m=\u001b[39m \u001b[43mmeth\u001b[49m\u001b[43m(\u001b[49m\u001b[43mreq\u001b[49m\u001b[43m,\u001b[49m\u001b[43m \u001b[49m\u001b[43mresponse\u001b[49m\u001b[43m)\u001b[49m\n\u001b[0;32m    527\u001b[0m \u001b[38;5;28;01mreturn\u001b[39;00m response\n",
      "File \u001b[1;32mc:\\Users\\starl\\AppData\\Local\\Programs\\Python\\Python310\\lib\\urllib\\request.py:634\u001b[0m, in \u001b[0;36mHTTPErrorProcessor.http_response\u001b[1;34m(self, request, response)\u001b[0m\n\u001b[0;32m    631\u001b[0m \u001b[38;5;66;03m# According to RFC 2616, \"2xx\" code indicates that the client's\u001b[39;00m\n\u001b[0;32m    632\u001b[0m \u001b[38;5;66;03m# request was successfully received, understood, and accepted.\u001b[39;00m\n\u001b[0;32m    633\u001b[0m \u001b[38;5;28;01mif\u001b[39;00m \u001b[38;5;129;01mnot\u001b[39;00m (\u001b[38;5;241m200\u001b[39m \u001b[38;5;241m<\u001b[39m\u001b[38;5;241m=\u001b[39m code \u001b[38;5;241m<\u001b[39m \u001b[38;5;241m300\u001b[39m):\n\u001b[1;32m--> 634\u001b[0m     response \u001b[38;5;241m=\u001b[39m \u001b[38;5;28;43mself\u001b[39;49m\u001b[38;5;241;43m.\u001b[39;49m\u001b[43mparent\u001b[49m\u001b[38;5;241;43m.\u001b[39;49m\u001b[43merror\u001b[49m\u001b[43m(\u001b[49m\n\u001b[0;32m    635\u001b[0m \u001b[43m        \u001b[49m\u001b[38;5;124;43m'\u001b[39;49m\u001b[38;5;124;43mhttp\u001b[39;49m\u001b[38;5;124;43m'\u001b[39;49m\u001b[43m,\u001b[49m\u001b[43m \u001b[49m\u001b[43mrequest\u001b[49m\u001b[43m,\u001b[49m\u001b[43m \u001b[49m\u001b[43mresponse\u001b[49m\u001b[43m,\u001b[49m\u001b[43m \u001b[49m\u001b[43mcode\u001b[49m\u001b[43m,\u001b[49m\u001b[43m \u001b[49m\u001b[43mmsg\u001b[49m\u001b[43m,\u001b[49m\u001b[43m \u001b[49m\u001b[43mhdrs\u001b[49m\u001b[43m)\u001b[49m\n\u001b[0;32m    637\u001b[0m \u001b[38;5;28;01mreturn\u001b[39;00m response\n",
      "File \u001b[1;32mc:\\Users\\starl\\AppData\\Local\\Programs\\Python\\Python310\\lib\\urllib\\request.py:563\u001b[0m, in \u001b[0;36mOpenerDirector.error\u001b[1;34m(self, proto, *args)\u001b[0m\n\u001b[0;32m    561\u001b[0m \u001b[38;5;28;01mif\u001b[39;00m http_err:\n\u001b[0;32m    562\u001b[0m     args \u001b[38;5;241m=\u001b[39m (\u001b[38;5;28mdict\u001b[39m, \u001b[38;5;124m'\u001b[39m\u001b[38;5;124mdefault\u001b[39m\u001b[38;5;124m'\u001b[39m, \u001b[38;5;124m'\u001b[39m\u001b[38;5;124mhttp_error_default\u001b[39m\u001b[38;5;124m'\u001b[39m) \u001b[38;5;241m+\u001b[39m orig_args\n\u001b[1;32m--> 563\u001b[0m     \u001b[38;5;28;01mreturn\u001b[39;00m \u001b[38;5;28;43mself\u001b[39;49m\u001b[38;5;241;43m.\u001b[39;49m\u001b[43m_call_chain\u001b[49m\u001b[43m(\u001b[49m\u001b[38;5;241;43m*\u001b[39;49m\u001b[43margs\u001b[49m\u001b[43m)\u001b[49m\n",
      "File \u001b[1;32mc:\\Users\\starl\\AppData\\Local\\Programs\\Python\\Python310\\lib\\urllib\\request.py:496\u001b[0m, in \u001b[0;36mOpenerDirector._call_chain\u001b[1;34m(self, chain, kind, meth_name, *args)\u001b[0m\n\u001b[0;32m    494\u001b[0m \u001b[38;5;28;01mfor\u001b[39;00m handler \u001b[38;5;129;01min\u001b[39;00m handlers:\n\u001b[0;32m    495\u001b[0m     func \u001b[38;5;241m=\u001b[39m \u001b[38;5;28mgetattr\u001b[39m(handler, meth_name)\n\u001b[1;32m--> 496\u001b[0m     result \u001b[38;5;241m=\u001b[39m \u001b[43mfunc\u001b[49m\u001b[43m(\u001b[49m\u001b[38;5;241;43m*\u001b[39;49m\u001b[43margs\u001b[49m\u001b[43m)\u001b[49m\n\u001b[0;32m    497\u001b[0m     \u001b[38;5;28;01mif\u001b[39;00m result \u001b[38;5;129;01mis\u001b[39;00m \u001b[38;5;129;01mnot\u001b[39;00m \u001b[38;5;28;01mNone\u001b[39;00m:\n\u001b[0;32m    498\u001b[0m         \u001b[38;5;28;01mreturn\u001b[39;00m result\n",
      "File \u001b[1;32mc:\\Users\\starl\\AppData\\Local\\Programs\\Python\\Python310\\lib\\urllib\\request.py:643\u001b[0m, in \u001b[0;36mHTTPDefaultErrorHandler.http_error_default\u001b[1;34m(self, req, fp, code, msg, hdrs)\u001b[0m\n\u001b[0;32m    642\u001b[0m \u001b[38;5;28;01mdef\u001b[39;00m \u001b[38;5;21mhttp_error_default\u001b[39m(\u001b[38;5;28mself\u001b[39m, req, fp, code, msg, hdrs):\n\u001b[1;32m--> 643\u001b[0m     \u001b[38;5;28;01mraise\u001b[39;00m HTTPError(req\u001b[38;5;241m.\u001b[39mfull_url, code, msg, hdrs, fp)\n",
      "\u001b[1;31mHTTPError\u001b[0m: HTTP Error 403: Forbidden"
     ]
    }
   ],
   "source": [
    "print(URLS)\n",
    "\n",
    "for i in URLS:\n",
    "    browser.get(i)\n",
    "    wget.download(i)"
   ]
  },
  {
   "cell_type": "code",
   "execution_count": 2,
   "metadata": {},
   "outputs": [
    {
     "name": "stdout",
     "output_type": "stream",
     "text": [
      "https://www.pixiv.net/tags/귀종/illustrations?p=1\n",
      "https://www.pixiv.net/tags/귀종/illustrations?p=2\n",
      "https://www.pixiv.net/tags/귀종/illustrations?p=3\n",
      "https://www.pixiv.net/tags/귀종/illustrations?p=4\n",
      "https://www.pixiv.net/tags/귀종/illustrations?p=5\n",
      "https://www.pixiv.net/tags/귀종/illustrations?p=6\n",
      "https://www.pixiv.net/tags/귀종/illustrations?p=7\n",
      "https://www.pixiv.net/tags/귀종/illustrations?p=8\n",
      "https://www.pixiv.net/tags/귀종/illustrations?p=9\n",
      "https://www.pixiv.net/tags/귀종/illustrations?p=10\n",
      "https://www.pixiv.net/tags/귀종/illustrations?p=11\n",
      "https://www.pixiv.net/tags/귀종/illustrations?p=12\n",
      "https://www.pixiv.net/tags/귀종/illustrations?p=13\n",
      "https://www.pixiv.net/tags/귀종/illustrations?p=14\n",
      "https://www.pixiv.net/tags/귀종/illustrations?p=15\n",
      "https://www.pixiv.net/tags/귀종/illustrations?p=16\n",
      "https://www.pixiv.net/tags/귀종/illustrations?p=17\n",
      "https://www.pixiv.net/tags/귀종/illustrations?p=18\n",
      "https://www.pixiv.net/tags/귀종/illustrations?p=19\n",
      "https://www.pixiv.net/tags/귀종/illustrations?p=20\n",
      "https://www.pixiv.net/tags/귀종/illustrations?p=21\n",
      "https://www.pixiv.net/tags/귀종/illustrations?p=22\n",
      "https://www.pixiv.net/tags/귀종/illustrations?p=23\n",
      "https://www.pixiv.net/tags/귀종/illustrations?p=24\n",
      "https://www.pixiv.net/tags/귀종/illustrations?p=25\n",
      "https://www.pixiv.net/tags/귀종/illustrations?p=26\n",
      "https://www.pixiv.net/tags/귀종/illustrations?p=27\n",
      "https://www.pixiv.net/tags/귀종/illustrations?p=28\n",
      "https://www.pixiv.net/tags/귀종/illustrations?p=29\n",
      "https://www.pixiv.net/tags/귀종/illustrations?p=30\n",
      "https://www.pixiv.net/tags/귀종/illustrations?p=31\n",
      "https://www.pixiv.net/tags/귀종/illustrations?p=32\n",
      "https://www.pixiv.net/tags/귀종/illustrations?p=33\n",
      "https://www.pixiv.net/tags/귀종/illustrations?p=34\n",
      "https://www.pixiv.net/tags/귀종/illustrations?p=35\n",
      "https://www.pixiv.net/tags/귀종/illustrations?p=36\n",
      "https://www.pixiv.net/tags/귀종/illustrations?p=37\n",
      "https://www.pixiv.net/tags/귀종/illustrations?p=38\n",
      "https://www.pixiv.net/tags/귀종/illustrations?p=39\n",
      "https://www.pixiv.net/tags/귀종/illustrations?p=40\n",
      "https://www.pixiv.net/tags/귀종/illustrations?p=41\n",
      "https://www.pixiv.net/tags/귀종/illustrations?p=42\n",
      "https://www.pixiv.net/tags/귀종/illustrations?p=43\n",
      "https://www.pixiv.net/tags/귀종/illustrations?p=44\n",
      "https://www.pixiv.net/tags/귀종/illustrations?p=45\n",
      "https://www.pixiv.net/tags/귀종/illustrations?p=46\n",
      "https://www.pixiv.net/tags/귀종/illustrations?p=47\n",
      "https://www.pixiv.net/tags/귀종/illustrations?p=48\n",
      "https://www.pixiv.net/tags/귀종/illustrations?p=49\n",
      "https://www.pixiv.net/tags/귀종/illustrations?p=50\n",
      "https://www.pixiv.net/tags/귀종/illustrations?p=51\n",
      "https://www.pixiv.net/tags/귀종/illustrations?p=52\n",
      "https://www.pixiv.net/tags/귀종/illustrations?p=53\n",
      "https://www.pixiv.net/tags/귀종/illustrations?p=54\n",
      "https://www.pixiv.net/tags/귀종/illustrations?p=55\n",
      "https://www.pixiv.net/tags/귀종/illustrations?p=56\n",
      "https://www.pixiv.net/tags/귀종/illustrations?p=57\n",
      "https://www.pixiv.net/tags/귀종/illustrations?p=58\n",
      "https://www.pixiv.net/tags/귀종/illustrations?p=59\n",
      "https://www.pixiv.net/tags/귀종/illustrations?p=60\n",
      "https://www.pixiv.net/tags/귀종/illustrations?p=61\n",
      "https://www.pixiv.net/tags/귀종/illustrations?p=62\n",
      "https://www.pixiv.net/tags/귀종/illustrations?p=63\n",
      "https://www.pixiv.net/tags/귀종/illustrations?p=64\n",
      "https://www.pixiv.net/tags/귀종/illustrations?p=65\n",
      "https://www.pixiv.net/tags/귀종/illustrations?p=66\n",
      "https://www.pixiv.net/tags/귀종/illustrations?p=67\n",
      "https://www.pixiv.net/tags/귀종/illustrations?p=68\n",
      "https://www.pixiv.net/tags/귀종/illustrations?p=69\n",
      "https://www.pixiv.net/tags/귀종/illustrations?p=70\n",
      "https://www.pixiv.net/tags/귀종/illustrations?p=71\n",
      "https://www.pixiv.net/tags/귀종/illustrations?p=72\n",
      "https://www.pixiv.net/tags/귀종/illustrations?p=73\n",
      "https://www.pixiv.net/tags/귀종/illustrations?p=74\n",
      "https://www.pixiv.net/tags/귀종/illustrations?p=75\n",
      "https://www.pixiv.net/tags/귀종/illustrations?p=76\n",
      "https://www.pixiv.net/tags/귀종/illustrations?p=77\n",
      "https://www.pixiv.net/tags/귀종/illustrations?p=78\n",
      "https://www.pixiv.net/tags/귀종/illustrations?p=79\n",
      "https://www.pixiv.net/tags/귀종/illustrations?p=80\n",
      "https://www.pixiv.net/tags/귀종/illustrations?p=81\n",
      "https://www.pixiv.net/tags/귀종/illustrations?p=82\n",
      "https://www.pixiv.net/tags/귀종/illustrations?p=83\n",
      "https://www.pixiv.net/tags/귀종/illustrations?p=84\n",
      "https://www.pixiv.net/tags/귀종/illustrations?p=85\n",
      "https://www.pixiv.net/tags/귀종/illustrations?p=86\n",
      "https://www.pixiv.net/tags/귀종/illustrations?p=87\n",
      "https://www.pixiv.net/tags/귀종/illustrations?p=88\n",
      "https://www.pixiv.net/tags/귀종/illustrations?p=89\n",
      "https://www.pixiv.net/tags/귀종/illustrations?p=90\n",
      "https://www.pixiv.net/tags/귀종/illustrations?p=91\n",
      "https://www.pixiv.net/tags/귀종/illustrations?p=92\n",
      "https://www.pixiv.net/tags/귀종/illustrations?p=93\n",
      "https://www.pixiv.net/tags/귀종/illustrations?p=94\n",
      "https://www.pixiv.net/tags/귀종/illustrations?p=95\n",
      "https://www.pixiv.net/tags/귀종/illustrations?p=96\n",
      "https://www.pixiv.net/tags/귀종/illustrations?p=97\n",
      "https://www.pixiv.net/tags/귀종/illustrations?p=98\n",
      "https://www.pixiv.net/tags/귀종/illustrations?p=99\n"
     ]
    }
   ],
   "source": [
    "QUERY_TOKEN = '귀종'\n",
    "URL = f'https://www.pixiv.net/tags/{QUERY_TOKEN}/illustrations'\n",
    "\n",
    "for i in range(1, 100):\n",
    "    URL_EXCHAGED = URL + f'?p={i}'\n",
    "    \n",
    "    "
   ]
  }
 ],
 "metadata": {
  "kernelspec": {
   "display_name": "Python 3",
   "language": "python",
   "name": "python3"
  },
  "language_info": {
   "codemirror_mode": {
    "name": "ipython",
    "version": 3
   },
   "file_extension": ".py",
   "mimetype": "text/x-python",
   "name": "python",
   "nbconvert_exporter": "python",
   "pygments_lexer": "ipython3",
   "version": "3.10.6"
  }
 },
 "nbformat": 4,
 "nbformat_minor": 2
}
